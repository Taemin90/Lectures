{
 "cells": [
  {
   "cell_type": "markdown",
   "id": "d32e8f4b",
   "metadata": {},
   "source": [
    "# Vector 6-3"
   ]
  },
  {
   "cell_type": "markdown",
   "id": "3ab237d4",
   "metadata": {},
   "source": [
    "get the volume of the parallelepiped made of AB, AC, AD\n",
    "\n",
    "A = (1, 2, 3), B = (0, 5, 2), C = (2, 2, 4), D = (2, 4, 1)"
   ]
  },
  {
   "cell_type": "code",
   "execution_count": 1,
   "id": "b5415503",
   "metadata": {},
   "outputs": [],
   "source": [
    "import numpy as np"
   ]
  },
  {
   "cell_type": "markdown",
   "id": "aaf07c82",
   "metadata": {},
   "source": [
    "get the solution by triple product"
   ]
  },
  {
   "cell_type": "code",
   "execution_count": 2,
   "id": "695881ff",
   "metadata": {},
   "outputs": [],
   "source": [
    "def tripleProduct(u, v, w):\n",
    "    return np.linalg.det(np.vstack([np.vstack([u, v]), w]))"
   ]
  },
  {
   "cell_type": "code",
   "execution_count": 3,
   "id": "5ddb2aa4",
   "metadata": {},
   "outputs": [],
   "source": [
    "A = np.array([1, 2, 3])\n",
    "B = np.array([0, 5, 2])\n",
    "C = np.array([2, 2, 4])\n",
    "D = np.array([2, 4, 1])\n",
    "\n",
    "u = B-A\n",
    "v = C-A\n",
    "w = D-A"
   ]
  },
  {
   "cell_type": "code",
   "execution_count": 4,
   "id": "11d5e0c0",
   "metadata": {},
   "outputs": [
    {
     "name": "stdout",
     "output_type": "stream",
     "text": [
      "volume : 9.00\n"
     ]
    }
   ],
   "source": [
    "print('volume : {0:.2f}'.format(tripleProduct(u, v, w)))"
   ]
  }
 ],
 "metadata": {
  "kernelspec": {
   "display_name": "Python 3",
   "language": "python",
   "name": "python3"
  },
  "language_info": {
   "codemirror_mode": {
    "name": "ipython",
    "version": 3
   },
   "file_extension": ".py",
   "mimetype": "text/x-python",
   "name": "python",
   "nbconvert_exporter": "python",
   "pygments_lexer": "ipython3",
   "version": "3.9.0"
  }
 },
 "nbformat": 4,
 "nbformat_minor": 5
}
