{
 "cells": [
  {
   "cell_type": "markdown",
   "id": "7c29be08",
   "metadata": {},
   "source": [
    "# Vector 6-4"
   ]
  },
  {
   "cell_type": "markdown",
   "id": "e0a40c1c",
   "metadata": {},
   "source": [
    "get the distance the plain containing potin A with normal vector and the point B"
   ]
  },
  {
   "cell_type": "code",
   "execution_count": 1,
   "id": "9910055c",
   "metadata": {},
   "outputs": [],
   "source": [
    "import numpy as np"
   ]
  },
  {
   "cell_type": "code",
   "execution_count": 2,
   "id": "f5537bd8",
   "metadata": {},
   "outputs": [],
   "source": [
    "def distance(A, W, P):\n",
    "    return np.absolute(np.dot((P-A), W)) / np.linalg.norm(W)"
   ]
  },
  {
   "cell_type": "code",
   "execution_count": 3,
   "id": "988f50d1",
   "metadata": {},
   "outputs": [],
   "source": [
    "A = np.array([2, 3, 4])\n",
    "W = np.array([1, 2, 3])\n",
    "P = np.array([0, 1, 2])"
   ]
  },
  {
   "cell_type": "code",
   "execution_count": 4,
   "id": "f5ea518e",
   "metadata": {},
   "outputs": [
    {
     "name": "stdout",
     "output_type": "stream",
     "text": [
      "distance : 3.21\n"
     ]
    }
   ],
   "source": [
    "print('distance : {0:.2f}'.format(distance(A, W, P)))"
   ]
  }
 ],
 "metadata": {
  "kernelspec": {
   "display_name": "Python 3",
   "language": "python",
   "name": "python3"
  },
  "language_info": {
   "codemirror_mode": {
    "name": "ipython",
    "version": 3
   },
   "file_extension": ".py",
   "mimetype": "text/x-python",
   "name": "python",
   "nbconvert_exporter": "python",
   "pygments_lexer": "ipython3",
   "version": "3.9.0"
  }
 },
 "nbformat": 4,
 "nbformat_minor": 5
}
