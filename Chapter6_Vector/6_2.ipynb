{
 "cells": [
  {
   "cell_type": "markdown",
   "id": "7a83061a",
   "metadata": {},
   "source": [
    "# Vector 6-2"
   ]
  },
  {
   "cell_type": "markdown",
   "id": "ab6dce27",
   "metadata": {},
   "source": [
    "get proj(B)A and angle of A and B\n",
    "\n",
    "A = np.array([[2], [4], [1]]), B = np.array([[1], [-1], [3]]) "
   ]
  },
  {
   "cell_type": "code",
   "execution_count": 1,
   "id": "a4646b30",
   "metadata": {},
   "outputs": [],
   "source": [
    "import numpy as np"
   ]
  },
  {
   "cell_type": "code",
   "execution_count": 2,
   "id": "8f9db92f",
   "metadata": {},
   "outputs": [],
   "source": [
    "def getAngle(A, B):\n",
    "    numerator = np.dot(A.T, B)\n",
    "    denominator = np.linalg.norm(A)*np.linalg.norm(B)\n",
    "    return np.arctan(numerator/denominator)*360/np.pi"
   ]
  },
  {
   "cell_type": "code",
   "execution_count": 3,
   "id": "f9309985",
   "metadata": {},
   "outputs": [],
   "source": [
    "def getProj(A, B):\n",
    "    numerator = np.dot(A.T, B)\n",
    "    denominator = np.dot(B.T, B)\n",
    "    return (numerator/denominator)*B"
   ]
  },
  {
   "cell_type": "code",
   "execution_count": 4,
   "id": "10ec2f06",
   "metadata": {},
   "outputs": [],
   "source": [
    "A = np.array([[2], [4], [1]])\n",
    "B = np.array([[1], [-1], [3]])"
   ]
  },
  {
   "cell_type": "code",
   "execution_count": 5,
   "id": "a46a2d2d",
   "metadata": {},
   "outputs": [
    {
     "name": "stdout",
     "output_type": "stream",
     "text": [
      "Angle :  [[7.52871961]]\n",
      "Projection : \n",
      " [[ 0.09090909]\n",
      " [-0.09090909]\n",
      " [ 0.27272727]]\n"
     ]
    }
   ],
   "source": [
    "print('Angle : ', getAngle(A, B))\n",
    "print('Projection : \\n', getProj(A, B))"
   ]
  }
 ],
 "metadata": {
  "kernelspec": {
   "display_name": "Python 3",
   "language": "python",
   "name": "python3"
  },
  "language_info": {
   "codemirror_mode": {
    "name": "ipython",
    "version": 3
   },
   "file_extension": ".py",
   "mimetype": "text/x-python",
   "name": "python",
   "nbconvert_exporter": "python",
   "pygments_lexer": "ipython3",
   "version": "3.9.0"
  }
 },
 "nbformat": 4,
 "nbformat_minor": 5
}
