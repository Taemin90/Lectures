{
 "cells": [
  {
   "cell_type": "markdown",
   "id": "03f687a5",
   "metadata": {},
   "source": [
    "# Vector 6-1"
   ]
  },
  {
   "cell_type": "markdown",
   "id": "da167f32",
   "metadata": {},
   "source": [
    "get direction and power of the combination of the two force\n",
    "\n",
    "\n",
    "F1 - direction : 30 degree, power : 100N, F2 - direction : 60 degree, power : 120N"
   ]
  },
  {
   "cell_type": "code",
   "execution_count": 1,
   "id": "9ee5cebc",
   "metadata": {},
   "outputs": [],
   "source": [
    "import numpy as np"
   ]
  },
  {
   "cell_type": "code",
   "execution_count": 2,
   "id": "99621627",
   "metadata": {},
   "outputs": [],
   "source": [
    "F1 = np.array([100*np.cos(30*2*np.pi/360), 100*np.sin(30*2*np.pi/360)])\n",
    "F2 = np.array([120*np.cos(60*2*np.pi/360), 120*np.sin(60*2*np.pi/360)])"
   ]
  },
  {
   "cell_type": "code",
   "execution_count": 3,
   "id": "42bebcac",
   "metadata": {},
   "outputs": [
    {
     "name": "stdout",
     "output_type": "stream",
     "text": [
      "[146.60254038 153.92304845]\n"
     ]
    }
   ],
   "source": [
    "Fsum = F1+F2\n",
    "print(Fsum)"
   ]
  },
  {
   "cell_type": "code",
   "execution_count": 4,
   "id": "b5f76a9d",
   "metadata": {},
   "outputs": [],
   "source": [
    "power = np.sqrt(Fsum[0]**2 + Fsum[1]**2)\n",
    "direction = np.arctan(Fsum[1]/Fsum[0]) * 360/(2*np.pi)"
   ]
  },
  {
   "cell_type": "code",
   "execution_count": 5,
   "id": "c72198b5",
   "metadata": {},
   "outputs": [
    {
     "name": "stdout",
     "output_type": "stream",
     "text": [
      "Power :  212.56671821060448\n",
      "Direction :  46.395392948206855\n"
     ]
    }
   ],
   "source": [
    "print('Power : ', power)\n",
    "print('Direction : ', direction)"
   ]
  }
 ],
 "metadata": {
  "kernelspec": {
   "display_name": "Python 3",
   "language": "python",
   "name": "python3"
  },
  "language_info": {
   "codemirror_mode": {
    "name": "ipython",
    "version": 3
   },
   "file_extension": ".py",
   "mimetype": "text/x-python",
   "name": "python",
   "nbconvert_exporter": "python",
   "pygments_lexer": "ipython3",
   "version": "3.9.0"
  }
 },
 "nbformat": 4,
 "nbformat_minor": 5
}
