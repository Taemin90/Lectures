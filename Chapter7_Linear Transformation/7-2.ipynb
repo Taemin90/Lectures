{
 "cells": [
  {
   "cell_type": "code",
   "execution_count": 1,
   "id": "26be6a7d",
   "metadata": {},
   "outputs": [],
   "source": [
    "import numpy as np"
   ]
  },
  {
   "cell_type": "code",
   "execution_count": 2,
   "id": "7fab6528",
   "metadata": {},
   "outputs": [],
   "source": [
    "A = np.eye(4)\n",
    "B = np.zeros((3, 3))\n",
    "C = np.array([[2, 5, -3, -4, 8],\n",
    "             [4, 7, -4, -3, 9],\n",
    "             [6, 9, -5, 2, 4],\n",
    "             [0, -9, 6, 5, -6]])\n",
    "CT = C.T"
   ]
  },
  {
   "cell_type": "code",
   "execution_count": 3,
   "id": "74c03046",
   "metadata": {},
   "outputs": [
    {
     "name": "stdout",
     "output_type": "stream",
     "text": [
      "Rank of A : 4\n"
     ]
    }
   ],
   "source": [
    "print(f'Rank of A : {np.linalg.matrix_rank(A)}')"
   ]
  },
  {
   "cell_type": "code",
   "execution_count": 4,
   "id": "f459f759",
   "metadata": {},
   "outputs": [
    {
     "name": "stdout",
     "output_type": "stream",
     "text": [
      "Rank of B : 0\n"
     ]
    }
   ],
   "source": [
    "print(f'Rank of B : {np.linalg.matrix_rank(B)}')"
   ]
  },
  {
   "cell_type": "code",
   "execution_count": 5,
   "id": "b07c2b8a",
   "metadata": {},
   "outputs": [
    {
     "name": "stdout",
     "output_type": "stream",
     "text": [
      "Rank of C : 3\n"
     ]
    }
   ],
   "source": [
    "print(f'Rank of C : {np.linalg.matrix_rank(C)}')"
   ]
  },
  {
   "cell_type": "code",
   "execution_count": 6,
   "id": "dfa1dce6",
   "metadata": {},
   "outputs": [
    {
     "name": "stdout",
     "output_type": "stream",
     "text": [
      "Rank of transpose C : 3\n"
     ]
    }
   ],
   "source": [
    "print(f'Rank of transpose C : {np.linalg.matrix_rank(CT)}')"
   ]
  }
 ],
 "metadata": {
  "kernelspec": {
   "display_name": "Python 3",
   "language": "python",
   "name": "python3"
  },
  "language_info": {
   "codemirror_mode": {
    "name": "ipython",
    "version": 3
   },
   "file_extension": ".py",
   "mimetype": "text/x-python",
   "name": "python",
   "nbconvert_exporter": "python",
   "pygments_lexer": "ipython3",
   "version": "3.9.0"
  }
 },
 "nbformat": 4,
 "nbformat_minor": 5
}
