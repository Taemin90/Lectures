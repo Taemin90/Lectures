{
 "cells": [
  {
   "cell_type": "code",
   "execution_count": 1,
   "id": "1c2abc49",
   "metadata": {},
   "outputs": [],
   "source": [
    "import numpy as np\n",
    "\n",
    "A = np.array([[2, 3],\n",
    "            [3, -6]])\n",
    "B = np.array([[5, 2, 0],\n",
    "            [2, 5, 0],\n",
    "            [-3, 4, 6]])"
   ]
  },
  {
   "cell_type": "code",
   "execution_count": 2,
   "id": "ac924e42",
   "metadata": {},
   "outputs": [],
   "source": [
    "eigenvalue_A, eigenvector_A = np.linalg.eig(A)\n",
    "eigenvalue_B, eigenvector_B = np.linalg.eig(B)"
   ]
  },
  {
   "cell_type": "code",
   "execution_count": 3,
   "id": "3f736675",
   "metadata": {},
   "outputs": [
    {
     "name": "stdout",
     "output_type": "stream",
     "text": [
      "A eigenvalue:[ 3. -7.]\n",
      "A eigenvector:[[ 0.9486833  -0.31622777]\n",
      " [ 0.31622777  0.9486833 ]]\n",
      "B eigenvalue:[6. 7. 3.]\n",
      "B eigenvector:[[ 0.          0.57735027  0.36650833]\n",
      " [ 0.          0.57735027 -0.36650833]\n",
      " [ 1.          0.57735027  0.85518611]]\n"
     ]
    }
   ],
   "source": [
    "print(f'A eigenvalue:{eigenvalue_A}\\nA eigenvector:{eigenvector_A}')\n",
    "print(f'B eigenvalue:{eigenvalue_B}\\nB eigenvector:{eigenvector_B}')"
   ]
  }
 ],
 "metadata": {
  "kernelspec": {
   "display_name": "Python 3",
   "language": "python",
   "name": "python3"
  },
  "language_info": {
   "codemirror_mode": {
    "name": "ipython",
    "version": 3
   },
   "file_extension": ".py",
   "mimetype": "text/x-python",
   "name": "python",
   "nbconvert_exporter": "python",
   "pygments_lexer": "ipython3",
   "version": "3.9.0"
  }
 },
 "nbformat": 4,
 "nbformat_minor": 5
}
