{
 "cells": [
  {
   "cell_type": "markdown",
   "id": "e82202db",
   "metadata": {},
   "source": [
    "# Determinant 5-3"
   ]
  },
  {
   "cell_type": "markdown",
   "id": "36c73210",
   "metadata": {},
   "source": [
    "Solve the system of linear equations by Cramer's rule"
   ]
  },
  {
   "cell_type": "code",
   "execution_count": 1,
   "id": "eec96297",
   "metadata": {},
   "outputs": [],
   "source": [
    "import numpy as np"
   ]
  },
  {
   "cell_type": "code",
   "execution_count": 2,
   "id": "03cc6933",
   "metadata": {},
   "outputs": [],
   "source": [
    "def getXi(A, b, i):\n",
    "    Mi = A.copy()\n",
    "    for j in range(0, len(b)):\n",
    "        Mi[j, i] = b[j]\n",
    "    return np.linalg.det(Mi)/np.linalg.det(A)"
   ]
  },
  {
   "cell_type": "code",
   "execution_count": 3,
   "id": "6a1b8110",
   "metadata": {},
   "outputs": [],
   "source": [
    "A = np.array([[2, -1, 5, 1], [3, 2, 2, -6], [1, 3, 3, -1], [5, -2, -3, 3]])\n",
    "b = np.array([[-3], [-32], [-47], [49]])"
   ]
  },
  {
   "cell_type": "code",
   "execution_count": 4,
   "id": "6ee223ea",
   "metadata": {},
   "outputs": [],
   "source": [
    "resultX = []"
   ]
  },
  {
   "cell_type": "code",
   "execution_count": 5,
   "id": "0eddfdd8",
   "metadata": {},
   "outputs": [],
   "source": [
    "for i in range(0, len(b)):\n",
    "    resultX.append(getXi(A, b, i))"
   ]
  },
  {
   "cell_type": "code",
   "execution_count": 6,
   "id": "5f5a3727",
   "metadata": {},
   "outputs": [
    {
     "name": "stdout",
     "output_type": "stream",
     "text": [
      "2.0 -12.0 -4.0 1.0\n"
     ]
    }
   ],
   "source": [
    "print(round(resultX[0], 1), round(resultX[1], 1), round(resultX[2], 1), round(resultX[3], 1))"
   ]
  }
 ],
 "metadata": {
  "kernelspec": {
   "display_name": "Python 3",
   "language": "python",
   "name": "python3"
  },
  "language_info": {
   "codemirror_mode": {
    "name": "ipython",
    "version": 3
   },
   "file_extension": ".py",
   "mimetype": "text/x-python",
   "name": "python",
   "nbconvert_exporter": "python",
   "pygments_lexer": "ipython3",
   "version": "3.9.0"
  }
 },
 "nbformat": 4,
 "nbformat_minor": 5
}
