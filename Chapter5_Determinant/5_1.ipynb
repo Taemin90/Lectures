{
 "cells": [
  {
   "cell_type": "markdown",
   "id": "a0c457e9",
   "metadata": {},
   "source": [
    "# Determinant 5-1\n",
    "get the determinant of A\n",
    "\n",
    "A = $\\begin{bmatrix}-4&0&2&-1&0\\\\1&3&-3&-1&4\\\\2&0&1&3&0\\\\-1&1&-1&-1&5\\\\1&-5&1&0&5\\\\ \\end{bmatrix}$"
   ]
  },
  {
   "cell_type": "code",
   "execution_count": 1,
   "id": "69c7095d",
   "metadata": {},
   "outputs": [],
   "source": [
    "import numpy as np"
   ]
  },
  {
   "cell_type": "code",
   "execution_count": 2,
   "id": "72fe2829",
   "metadata": {},
   "outputs": [],
   "source": [
    "A = np.array([[-4, 0, 2, -1, 0],\n",
    "           [1, 3, -3, -1, 4],\n",
    "           [2, 0, 1, 3, 0],\n",
    "           [-2, 1, -3, -1, 5],\n",
    "           [1, -5, 1, 0, 5]])"
   ]
  },
  {
   "cell_type": "code",
   "execution_count": 3,
   "id": "9f179aff",
   "metadata": {
    "scrolled": true
   },
   "outputs": [],
   "source": [
    "def getDeterminant(M):\n",
    "    if len(M) == 2:\n",
    "        return M[0][0]*M[1][1]-M[0][1]*M[1][0]\n",
    "\n",
    "    result =0\n",
    "    for i in range(len(M)):\n",
    "        M1 = M[1:, :i]\n",
    "        M2 = M[1:, i+1:]\n",
    "        smallM = np.hstack((M1, M2))\n",
    "        det = getDeterminant(smallM)\n",
    "        result += ((-1)**i)*det*M[0, i]\n",
    "\n",
    "    return result"
   ]
  },
  {
   "cell_type": "markdown",
   "id": "c6c012ca",
   "metadata": {},
   "source": [
    "getDeterminant function is to calculate determinant of a matrix by using Laplace expansion.\n",
    "I implemented it recursively."
   ]
  },
  {
   "cell_type": "code",
   "execution_count": 4,
   "id": "55f3e121",
   "metadata": {},
   "outputs": [
    {
     "name": "stdout",
     "output_type": "stream",
     "text": [
      "-997\n"
     ]
    }
   ],
   "source": [
    "print(getDeterminant(A))"
   ]
  }
 ],
 "metadata": {
  "kernelspec": {
   "display_name": "Python 3",
   "language": "python",
   "name": "python3"
  },
  "language_info": {
   "codemirror_mode": {
    "name": "ipython",
    "version": 3
   },
   "file_extension": ".py",
   "mimetype": "text/x-python",
   "name": "python",
   "nbconvert_exporter": "python",
   "pygments_lexer": "ipython3",
   "version": "3.9.0"
  }
 },
 "nbformat": 4,
 "nbformat_minor": 5
}
