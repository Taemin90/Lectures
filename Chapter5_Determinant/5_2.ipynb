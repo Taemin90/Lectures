{
 "cells": [
  {
   "cell_type": "markdown",
   "id": "651b9f26",
   "metadata": {},
   "source": [
    "# Determinant 5-2"
   ]
  },
  {
   "cell_type": "markdown",
   "id": "4c665e98",
   "metadata": {},
   "source": [
    "Calculate inverse matrix by adjoint matrix"
   ]
  },
  {
   "cell_type": "code",
   "execution_count": 1,
   "id": "8ef34344",
   "metadata": {},
   "outputs": [],
   "source": [
    "import numpy as np"
   ]
  },
  {
   "cell_type": "code",
   "execution_count": 2,
   "id": "7c46f902",
   "metadata": {},
   "outputs": [],
   "source": [
    "def getCofactor(M, i, j):\n",
    "    M1 = M[:i, :]\n",
    "    M2 = M[i+1:, :]\n",
    "    tempM = np.vstack((M1, M2))\n",
    "    tempM1 = tempM[:, :j]\n",
    "    tempM2 = tempM[:, j+1:]\n",
    "    resultM = np.hstack((tempM1, tempM2))\n",
    "    return (-1)**(i+j)*np.linalg.det(resultM)"
   ]
  },
  {
   "cell_type": "code",
   "execution_count": 3,
   "id": "60bdedb3",
   "metadata": {},
   "outputs": [],
   "source": [
    "def getAdjointMatrix(M):\n",
    "    n, _ = M.shape\n",
    "    adjM = np.zeros((n,n))\n",
    "    for i in range(0, n):\n",
    "        for j in range(0, n):\n",
    "            adjM[i][j] = getCofactor(M, j, i)\n",
    "    return adjM        "
   ]
  },
  {
   "cell_type": "code",
   "execution_count": 4,
   "id": "1230f2e2",
   "metadata": {},
   "outputs": [],
   "source": [
    "def getInverseMatrixByAdjointMatrix(M):\n",
    "    return getAdjointMatrix(M)*(1/np.linalg.det(M))"
   ]
  },
  {
   "cell_type": "code",
   "execution_count": 5,
   "id": "22653edf",
   "metadata": {},
   "outputs": [
    {
     "name": "stdout",
     "output_type": "stream",
     "text": [
      "A =  [[-4  0  2 -1  0]\n",
      " [ 1  3 -3 -1  4]\n",
      " [ 2  0  1  3  0]\n",
      " [-2  1 -3 -1  5]\n",
      " [ 1 -5  1  0  5]]\n",
      "inverse A =  [[-0.07321966  0.2106319  -0.03610832 -0.24573721  0.0772317 ]\n",
      " [ 0.16950853  0.26579739  0.09729188 -0.14343029 -0.06920762]\n",
      " [ 0.32397192  0.30090271  0.09127382 -0.35105316  0.11033099]\n",
      " [-0.05917753 -0.24072217  0.32698094  0.28084253 -0.08826479]\n",
      " [ 0.11935807  0.16349047  0.08625878 -0.02407222  0.09327984]]\n"
     ]
    }
   ],
   "source": [
    "A = np.array([[-4, 0, 2, -1, 0],\n",
    "             [1, 3, -3, -1, 4],\n",
    "             [2, 0, 1, 3, 0],\n",
    "             [-2, 1, -3, -1, 5],\n",
    "             [1, -5, 1, 0, 5]])\n",
    "print(\"A = \", A)\n",
    "\n",
    "invA = getInverseMatrixByAdjointMatrix(A)\n",
    "print(\"inverse A = \", invA)"
   ]
  }
 ],
 "metadata": {
  "kernelspec": {
   "display_name": "Python 3",
   "language": "python",
   "name": "python3"
  },
  "language_info": {
   "codemirror_mode": {
    "name": "ipython",
    "version": 3
   },
   "file_extension": ".py",
   "mimetype": "text/x-python",
   "name": "python",
   "nbconvert_exporter": "python",
   "pygments_lexer": "ipython3",
   "version": "3.9.0"
  }
 },
 "nbformat": 4,
 "nbformat_minor": 5
}
