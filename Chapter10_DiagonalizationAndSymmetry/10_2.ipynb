{
 "cells": [
  {
   "cell_type": "code",
   "execution_count": 1,
   "id": "3bff5be6",
   "metadata": {},
   "outputs": [],
   "source": [
    "import numpy as np\n",
    "import matplotlib.pyplot as plt"
   ]
  },
  {
   "cell_type": "code",
   "execution_count": 2,
   "id": "e0c79840",
   "metadata": {},
   "outputs": [],
   "source": [
    "C1 = np.array([[2, 3], [2, 4], [3, 6], [4, 1], [4, 4]])\n",
    "C2 = np.array([[6, 8], [8, 7], [9, 5], [9, 10], [10, 8]])"
   ]
  },
  {
   "cell_type": "code",
   "execution_count": 3,
   "id": "037a1710",
   "metadata": {},
   "outputs": [],
   "source": [
    "m1 = np.mean(C1, axis=0)\n",
    "m2 = np.mean(C2, axis=0)"
   ]
  },
  {
   "cell_type": "code",
   "execution_count": 4,
   "id": "30c1a6c2",
   "metadata": {},
   "outputs": [
    {
     "data": {
      "text/plain": [
       "array([[29.16, 21.6 ],\n",
       "       [21.6 , 16.  ]])"
      ]
     },
     "execution_count": 4,
     "metadata": {},
     "output_type": "execute_result"
    }
   ],
   "source": [
    "Sb = np.matmul((m1-m2).reshape(2, 1), (m1-m2).reshape(1, 2))\n",
    "Sb"
   ]
  },
  {
   "cell_type": "code",
   "execution_count": 5,
   "id": "76b8f2da",
   "metadata": {},
   "outputs": [],
   "source": [
    "S1 = np.cov(C1.T)*(C1.shape[0]-1)\n",
    "S2 = np.cov(C2.T)*(C2.shape[0]-1)"
   ]
  },
  {
   "cell_type": "code",
   "execution_count": 6,
   "id": "2f2f0141",
   "metadata": {},
   "outputs": [
    {
     "data": {
      "text/plain": [
       "array([[13.2, -2.2],\n",
       "       [-2.2, 26.4]])"
      ]
     },
     "execution_count": 6,
     "metadata": {},
     "output_type": "execute_result"
    }
   ],
   "source": [
    "Sw = S1 + S2\n",
    "Sw"
   ]
  },
  {
   "cell_type": "code",
   "execution_count": 7,
   "id": "876221ff",
   "metadata": {},
   "outputs": [],
   "source": [
    "e, w = np.linalg.eig(np.matmul(np.linalg.inv(Sw), Sb))"
   ]
  },
  {
   "cell_type": "code",
   "execution_count": 8,
   "id": "3f964854",
   "metadata": {},
   "outputs": [
    {
     "name": "stdout",
     "output_type": "stream",
     "text": [
      "Eigenvalue of Sw^-1*Sb:[3.13137004 0.        ]\n"
     ]
    }
   ],
   "source": [
    "print(f'Eigenvalue of Sw^-1*Sb:{e}')"
   ]
  },
  {
   "cell_type": "code",
   "execution_count": 9,
   "id": "c4a1f862",
   "metadata": {},
   "outputs": [],
   "source": [
    "max_index = np.argmax(e)"
   ]
  },
  {
   "cell_type": "code",
   "execution_count": 10,
   "id": "ee006310",
   "metadata": {},
   "outputs": [
    {
     "data": {
      "text/plain": [
       "array([0.91955932, 0.39295122])"
      ]
     },
     "execution_count": 10,
     "metadata": {},
     "output_type": "execute_result"
    }
   ],
   "source": [
    "projection_vector = w[:,max_index]\n",
    "projection_vector"
   ]
  },
  {
   "cell_type": "code",
   "execution_count": 11,
   "id": "a79505a0",
   "metadata": {},
   "outputs": [
    {
     "data": {
      "image/png": "[encoded data removed]",
      "text/plain": [
       "<Figure size 432x288 with 1 Axes>"
      ]
     },
     "metadata": {
      "needs_background": "light"
     },
     "output_type": "display_data"
    }
   ],
   "source": [
    "plt.figure(1)\n",
    "plt.plot(C1[:,0], C1[:,1], 'bd')\n",
    "plt.plot(C2[:,0], C2[:,1], 'ko')\n",
    "plt.plot([0, projection_vector[0]*15], [0,projection_vector[1]*15], 'r')\n",
    "plt.show()"
   ]
  },
  {
   "cell_type": "code",
   "execution_count": null,
   "id": "6cfc9ca1",
   "metadata": {},
   "outputs": [],
   "source": []
  }
 ],
 "metadata": {
  "kernelspec": {
   "display_name": "Python 3",
   "language": "python",
   "name": "python3"
  },
  "language_info": {
   "codemirror_mode": {
    "name": "ipython",
    "version": 3
   },
   "file_extension": ".py",
   "mimetype": "text/x-python",
   "name": "python",
   "nbconvert_exporter": "python",
   "pygments_lexer": "ipython3",
   "version": "3.9.0"
  }
 },
 "nbformat": 4,
 "nbformat_minor": 5
}
