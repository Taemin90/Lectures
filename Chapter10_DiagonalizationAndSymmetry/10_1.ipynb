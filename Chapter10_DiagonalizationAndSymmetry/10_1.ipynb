{
 "cells": [
  {
   "cell_type": "code",
   "execution_count": 1,
   "id": "5764b424",
   "metadata": {},
   "outputs": [],
   "source": [
    "import numpy as np"
   ]
  },
  {
   "cell_type": "code",
   "execution_count": 2,
   "id": "1bad673d",
   "metadata": {},
   "outputs": [],
   "source": [
    "A = np.array([[3, 1], [2, 2]])\n",
    "B = np.array([[1, 1, 0], [1, 3, 1], [2, -1, 1]])"
   ]
  },
  {
   "cell_type": "code",
   "execution_count": 3,
   "id": "d0e4fb34",
   "metadata": {},
   "outputs": [
    {
     "name": "stdout",
     "output_type": "stream",
     "text": [
      "eigenvalue of A:\n",
      "[4. 1.]\n",
      "eigenvector of A:\n",
      "[[ 0.70710678 -0.4472136 ]\n",
      " [ 0.70710678  0.89442719]]\n"
     ]
    }
   ],
   "source": [
    "w1, S1 = np.linalg.eig(A)\n",
    "print(f'eigenvalue of A:\\n{w1}\\neigenvector of A:\\n{S1}')"
   ]
  },
  {
   "cell_type": "code",
   "execution_count": 4,
   "id": "f3556888",
   "metadata": {},
   "outputs": [
    {
     "name": "stdout",
     "output_type": "stream",
     "text": [
      "diag of A:\n",
      "[[4. 0.]\n",
      " [0. 1.]]\n"
     ]
    }
   ],
   "source": [
    "L1 = np.diag(w1)\n",
    "print(f'diag of A:\\n{L1}')"
   ]
  },
  {
   "cell_type": "code",
   "execution_count": 5,
   "id": "f84d630c",
   "metadata": {},
   "outputs": [
    {
     "name": "stdout",
     "output_type": "stream",
     "text": [
      "eigen decomposition S*L*S^-1:\n",
      "[[3. 1.]\n",
      " [2. 2.]]\n"
     ]
    }
   ],
   "source": [
    "print(f'eigen decomposition S*L*S^-1:\\n{np.matmul(np.matmul(S1, L1), np.linalg.inv(S1))}')"
   ]
  },
  {
   "cell_type": "code",
   "execution_count": 6,
   "id": "7d2e4bd5",
   "metadata": {},
   "outputs": [
    {
     "name": "stdout",
     "output_type": "stream",
     "text": [
      "eigenvalue of B:\n",
      "[3.35930409+0.j         0.82034796+0.90301315j 0.82034796-0.90301315j]\n",
      "eigenvector of B:\n",
      "[[ 0.38955921+0.j         -0.19155904+0.28662578j -0.19155904-0.28662578j]\n",
      " [ 0.91908864+0.j         -0.22441288-0.22447324j -0.22441288+0.22447324j]\n",
      " [-0.05932691+0.j          0.88340332+0.j          0.88340332-0.j        ]]\n"
     ]
    }
   ],
   "source": [
    "w2, S2 = np.linalg.eig(B)\n",
    "print(f'eigenvalue of B:\\n{w2}\\neigenvector of B:\\n{S2}')"
   ]
  },
  {
   "cell_type": "code",
   "execution_count": 7,
   "id": "c088fc28",
   "metadata": {},
   "outputs": [
    {
     "name": "stdout",
     "output_type": "stream",
     "text": [
      "diag of B:\n",
      "[[3.35930409+0.j         0.        +0.j         0.        +0.j        ]\n",
      " [0.        +0.j         0.82034796+0.90301315j 0.        +0.j        ]\n",
      " [0.        +0.j         0.        +0.j         0.82034796-0.90301315j]]\n"
     ]
    }
   ],
   "source": [
    "L2 = np.diag(w2)\n",
    "print(f'diag of B:\\n{L2}')"
   ]
  },
  {
   "cell_type": "code",
   "execution_count": 8,
   "id": "29e16e43",
   "metadata": {},
   "outputs": [
    {
     "name": "stdout",
     "output_type": "stream",
     "text": [
      "eigen decomposition S*L*S^-1:\n",
      "[[ 1.00000000e+00-4.70014110e-17j  1.00000000e+00+4.03850115e-18j\n",
      "  -8.60422844e-16-9.52240528e-17j]\n",
      " [ 1.00000000e+00+1.99048070e-16j  3.00000000e+00-9.90168129e-17j\n",
      "   1.00000000e+00-9.12094458e-17j]\n",
      " [ 2.00000000e+00+9.80853939e-17j -1.00000000e+00-6.90840685e-17j\n",
      "   1.00000000e+00-1.61175952e-16j]]\n"
     ]
    }
   ],
   "source": [
    "print(f'eigen decomposition S*L*S^-1:\\n{np.matmul(np.matmul(S2, L2), np.linalg.inv(S2))}')"
   ]
  }
 ],
 "metadata": {
  "kernelspec": {
   "display_name": "Python 3",
   "language": "python",
   "name": "python3"
  },
  "language_info": {
   "codemirror_mode": {
    "name": "ipython",
    "version": 3
   },
   "file_extension": ".py",
   "mimetype": "text/x-python",
   "name": "python",
   "nbconvert_exporter": "python",
   "pygments_lexer": "ipython3",
   "version": "3.9.0"
  }
 },
 "nbformat": 4,
 "nbformat_minor": 5
}
