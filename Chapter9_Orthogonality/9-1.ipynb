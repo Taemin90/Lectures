{
 "cells": [
  {
   "cell_type": "code",
   "execution_count": 1,
   "id": "c2245167",
   "metadata": {},
   "outputs": [],
   "source": [
    "import numpy as np"
   ]
  },
  {
   "cell_type": "code",
   "execution_count": 2,
   "id": "7026a79b",
   "metadata": {},
   "outputs": [],
   "source": [
    "A = np.array([[3, 1], [2, 2]])\n",
    "B = np.array([[1, 1, 0], [1, 3, 1], [2, -1, 1]])\n",
    "C = np.array([[1, 1, 1], [2, 2, 0], [3, 0, 0], [0, 0, 1]])"
   ]
  },
  {
   "cell_type": "code",
   "execution_count": 3,
   "id": "8133f914",
   "metadata": {},
   "outputs": [],
   "source": [
    "def gram_schmidt_process(A):\n",
    "    result = []\n",
    "    for basis in A.T:\n",
    "        sum = np.zeros(basis.shape)\n",
    "        for orthogonal_basis in result:\n",
    "            sum += np.dot(basis, orthogonal_basis) * np.array(orthogonal_basis)\n",
    "        result.append(((basis - sum) / np.linalg.norm(basis - sum)).tolist())\n",
    "    return np.array(result).T"
   ]
  },
  {
   "cell_type": "code",
   "execution_count": 4,
   "id": "be183027",
   "metadata": {},
   "outputs": [
    {
     "name": "stdout",
     "output_type": "stream",
     "text": [
      "orthogonal basis of A:\n",
      "[[ 0.83205029 -0.5547002 ]\n",
      " [ 0.5547002   0.83205029]]\n",
      "orthogonal basis of B:\n",
      "[[ 0.40824829  0.20739034 -0.88900089]\n",
      " [ 0.40824829  0.82956136  0.38100038]\n",
      " [ 0.81649658 -0.51847585  0.25400025]]\n",
      "orthogonal basis of C:\n",
      "[[ 2.67261242e-01  3.58568583e-01  5.96284794e-01]\n",
      " [ 5.34522484e-01  7.17137166e-01 -2.98142397e-01]\n",
      " [ 8.01783726e-01 -5.97614305e-01  2.06877846e-17]\n",
      " [ 0.00000000e+00  0.00000000e+00  7.45355992e-01]]\n"
     ]
    }
   ],
   "source": [
    "print(f'orthogonal basis of A:\\n{gram_schmidt_process(A)}')\n",
    "print(f'orthogonal basis of B:\\n{gram_schmidt_process(B)}')\n",
    "print(f'orthogonal basis of C:\\n{gram_schmidt_process(C)}')"
   ]
  },
  {
   "cell_type": "code",
   "execution_count": 5,
   "id": "8b5bed6b",
   "metadata": {},
   "outputs": [],
   "source": [
    "Q, R = np.linalg.qr(C)"
   ]
  },
  {
   "cell_type": "code",
   "execution_count": 6,
   "id": "e489594e",
   "metadata": {},
   "outputs": [
    {
     "name": "stdout",
     "output_type": "stream",
     "text": [
      "QR Decomposition\n",
      "<Q>\n",
      "[[-2.67261242e-01 -3.58568583e-01  5.96284794e-01]\n",
      " [-5.34522484e-01 -7.17137166e-01 -2.98142397e-01]\n",
      " [-8.01783726e-01  5.97614305e-01  1.66533454e-16]\n",
      " [-0.00000000e+00 -0.00000000e+00  7.45355992e-01]]\n",
      "<R>\n",
      "[[-3.74165739 -1.33630621 -0.26726124]\n",
      " [ 0.         -1.79284291 -0.35856858]\n",
      " [ 0.          0.          1.34164079]]\n"
     ]
    }
   ],
   "source": [
    "print(f'QR Decomposition\\n<Q>\\n{Q}\\n<R>\\n{R}')"
   ]
  },
  {
   "cell_type": "code",
   "execution_count": null,
   "id": "071efb4c",
   "metadata": {},
   "outputs": [],
   "source": []
  }
 ],
 "metadata": {
  "kernelspec": {
   "display_name": "Python 3",
   "language": "python",
   "name": "python3"
  },
  "language_info": {
   "codemirror_mode": {
    "name": "ipython",
    "version": 3
   },
   "file_extension": ".py",
   "mimetype": "text/x-python",
   "name": "python",
   "nbconvert_exporter": "python",
   "pygments_lexer": "ipython3",
   "version": "3.9.0"
  }
 },
 "nbformat": 4,
 "nbformat_minor": 5
}
