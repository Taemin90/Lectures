{
 "cells": [
  {
   "cell_type": "code",
   "execution_count": 1,
   "id": "de3cb0bc",
   "metadata": {},
   "outputs": [],
   "source": [
    "import numpy as np"
   ]
  },
  {
   "cell_type": "code",
   "execution_count": 2,
   "id": "09852953",
   "metadata": {},
   "outputs": [],
   "source": [
    "A = np.array([[1, 1], [2, 1], [3, 1], [4, 1]])\n",
    "B = np.array([[3.5], [4.3], [7.2], [8.0]])\n",
    "\n",
    "C = np.array([[1, 3, 5], [1, 1, 0], [1, 1, 2], [1, 3, 3]])\n",
    "D = np.array([[3], [5], [7], [-3]])"
   ]
  },
  {
   "cell_type": "code",
   "execution_count": 3,
   "id": "1413f5d8",
   "metadata": {},
   "outputs": [],
   "source": [
    "Q1, R1 = np.linalg.qr(A)\n",
    "x1 = np.matmul(np.linalg.inv(R1), np.matmul(Q1.T, B))"
   ]
  },
  {
   "cell_type": "code",
   "execution_count": 4,
   "id": "f4bfeb49",
   "metadata": {},
   "outputs": [
    {
     "name": "stdout",
     "output_type": "stream",
     "text": [
      "solution of Ax = b\n",
      "[[1.64]\n",
      " [1.65]]\n"
     ]
    }
   ],
   "source": [
    "print(f'solution of Ax = b\\n{x1}')"
   ]
  },
  {
   "cell_type": "code",
   "execution_count": 5,
   "id": "cb76c8d5",
   "metadata": {},
   "outputs": [],
   "source": [
    "Q2, R2 = np.linalg.qr(C)\n",
    "x2 = np.matmul(np.linalg.inv(R2), np.matmul(Q2.T, D))"
   ]
  },
  {
   "cell_type": "code",
   "execution_count": 6,
   "id": "b60daad8",
   "metadata": {},
   "outputs": [
    {
     "name": "stdout",
     "output_type": "stream",
     "text": [
      "solution of Cx = d\n",
      "[[10.]\n",
      " [-6.]\n",
      " [ 2.]]\n"
     ]
    }
   ],
   "source": [
    "print(f'solution of Cx = d\\n{x2}')"
   ]
  }
 ],
 "metadata": {
  "kernelspec": {
   "display_name": "Python 3",
   "language": "python",
   "name": "python3"
  },
  "language_info": {
   "codemirror_mode": {
    "name": "ipython",
    "version": 3
   },
   "file_extension": ".py",
   "mimetype": "text/x-python",
   "name": "python",
   "nbconvert_exporter": "python",
   "pygments_lexer": "ipython3",
   "version": "3.9.0"
  }
 },
 "nbformat": 4,
 "nbformat_minor": 5
}
